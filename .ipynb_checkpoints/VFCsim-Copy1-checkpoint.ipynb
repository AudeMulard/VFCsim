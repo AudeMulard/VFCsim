{
 "cells": [
  {
   "cell_type": "markdown",
   "metadata": {},
   "source": [
    "# Presentation of the code"
   ]
  },
  {
   "cell_type": "markdown",
   "metadata": {},
   "source": [
    "Import package fipy: ('*' means import all fonctions)"
   ]
  },
  {
   "cell_type": "code",
   "execution_count": 1,
   "metadata": {
    "collapsed": true
   },
   "outputs": [],
   "source": [
    "from fipy import *"
   ]
  },
  {
   "cell_type": "markdown",
   "metadata": {},
   "source": [
    "## Geometry and mesh"
   ]
  },
  {
   "cell_type": "markdown",
   "metadata": {},
   "source": [
    "We first install the geometry of the situation.\n",
    "The simulation is 1D (W=1., b=1.), relativ (L=1.)."
   ]
  },
  {
   "cell_type": "markdown",
   "metadata": {},
   "source": [
    "### Space"
   ]
  },
  {
   "cell_type": "code",
   "execution_count": 2,
   "metadata": {
    "collapsed": true
   },
   "outputs": [],
   "source": [
    "L = 1. #length\n",
    "W = 1. #width: characteristic length\n",
    "b = 1. #gap"
   ]
  },
  {
   "cell_type": "markdown",
   "metadata": {},
   "source": [
    "### Mesh"
   ]
  },
  {
   "cell_type": "markdown",
   "metadata": {},
   "source": [
    "The mesh is decided with the length of one controle volume. For now, it is chosen as the smallest in the paper."
   ]
  },
  {
   "cell_type": "code",
   "execution_count": 3,
   "metadata": {
    "collapsed": true
   },
   "outputs": [],
   "source": [
    "dx = 0.02 * W #width of controle volume\n",
    "nx = L/dx #number of controle volume\n",
    "mesh = Grid1D(dx=dx, nx=nx)"
   ]
  },
  {
   "cell_type": "markdown",
   "metadata": {},
   "source": [
    "## Description of the fluids"
   ]
  },
  {
   "cell_type": "markdown",
   "metadata": {},
   "source": [
    "### Parameters"
   ]
  },
  {
   "cell_type": "markdown",
   "metadata": {},
   "source": [
    "Fluid 1 is the active fluid, less viscous. phi = 1.\n",
    "Fluid 2 is the passive fluid, more viscous. phi = 0.\n",
    "The two permeabilities are set to 1.\n",
    "We introduce the parameter beta, easier to use."
   ]
  },
  {
   "cell_type": "code",
   "execution_count": 4,
   "metadata": {
    "collapsed": true
   },
   "outputs": [],
   "source": [
    "viscosity2 = 1.\n",
    "Mobility = 1. #ratio of the two viscosities\n",
    "viscosity1 = viscosity2 * Mobility\n",
    "permeability1 = permeability2 = 1.\n",
    "beta1 = viscosity1 / permeability1\n",
    "beta2 = viscosity2 / permeability2"
   ]
  },
  {
   "cell_type": "markdown",
   "metadata": {},
   "source": [
    "### Variable of the fluids"
   ]
  },
  {
   "cell_type": "markdown",
   "metadata": {},
   "source": [
    "The grid is colocated in FiPy."
   ]
  },
  {
   "cell_type": "code",
   "execution_count": 5,
   "metadata": {
    "collapsed": true
   },
   "outputs": [],
   "source": [
    "pressure = CellVariable(mesh=mesh, name='pressure')\n",
    "xVelocity = CellVariable(mesh=mesh, name='X Velocity')\n",
    "velocity = FaceVariable(mesh=mesh, rank=1)"
   ]
  },
  {
   "cell_type": "markdown",
   "metadata": {},
   "source": [
    "## Phase-field model"
   ]
  },
  {
   "cell_type": "markdown",
   "metadata": {},
   "source": [
    "### Order parameter"
   ]
  },
  {
   "cell_type": "markdown",
   "metadata": {},
   "source": [
    "The order parameter is phi. The hasOld option is important, because the phase-field equation is not linear so we need to iterate the solving of the equation at each time step. The commad hasOld permits to update the value of phi to use at the end of the iterations only."
   ]
  },
  {
   "cell_type": "code",
   "execution_count": 6,
   "metadata": {
    "collapsed": true
   },
   "outputs": [],
   "source": [
    "phi = CellVariable(name=r'$\\phi$', mesh=mesh, hasOld = 1)"
   ]
  },
  {
   "cell_type": "markdown",
   "metadata": {},
   "source": [
    "### New values"
   ]
  },
  {
   "cell_type": "markdown",
   "metadata": {},
   "source": [
    "The phase-field method means that the two fluids are not separated anymore: this means all the variable have to be defined on the whole domain. The particular variables are transformed by interpolation."
   ]
  },
  {
   "cell_type": "code",
   "execution_count": 7,
   "metadata": {
    "collapsed": true
   },
   "outputs": [],
   "source": [
    "beta = CellVariable(mesh=mesh, name='beta', value = beta1 * phi + beta2 * (1-phi))"
   ]
  },
  {
   "cell_type": "markdown",
   "metadata": {},
   "source": [
    "### Parameters of Phase field equation"
   ]
  },
  {
   "cell_type": "markdown",
   "metadata": {},
   "source": [
    "The numbers are chosen so the schem ist stable. the justification is yet to come.\n",
    "l is chosen as 1 because its impact is still to define."
   ]
  },
  {
   "cell_type": "code",
   "execution_count": 8,
   "metadata": {
    "collapsed": true
   },
   "outputs": [],
   "source": [
    "epsilon = 1.\n",
    "M = Mobility * epsilon**2\n",
    "l = 1."
   ]
  },
  {
   "cell_type": "markdown",
   "metadata": {},
   "source": [
    "### Phase-field equation"
   ]
  },
  {
   "cell_type": "markdown",
   "metadata": {},
   "source": [
    "The equation chosen for the phase-field is base on Cahn-Hilliard model as described in the paper. (need of a better explanation here)\n",
    "The first line is the creation of an interpolation of the value of phi on to the faces. FiPy would have it done automatically, but it is more accurate to do it by arithmeticFaceValue (We also get to choose what type of interpolation we use) (why arithmetic?? I think because more precise is not needed, but I need to review, not the priority though)\n",
    "\n",
    "We change a the coeff of diffusion so that it works."
   ]
  },
  {
   "cell_type": "code",
   "execution_count": 9,
   "metadata": {
    "collapsed": true
   },
   "outputs": [],
   "source": [
    "PHI = phi.arithmeticFaceValue #result more accurate by non-linear interpolation\n",
    "coeff1 = Mobility * l * (6.* PHI*(PHI-1.) + 1.)\n",
    "eq = (TransientTerm() + ConvectionTerm(velocity) == DiffusionTerm(coeff=coeff1) - DiffusionTerm(coeff=(M, l)))"
   ]
  },
  {
   "cell_type": "markdown",
   "metadata": {},
   "source": [
    "We have now all the parameters and the variables. We can now set the boundary conditions in time and space."
   ]
  },
  {
   "cell_type": "markdown",
   "metadata": {},
   "source": [
    "## Pressure and velocity"
   ]
  },
  {
   "cell_type": "markdown",
   "metadata": {},
   "source": [
    "### Equations"
   ]
  },
  {
   "cell_type": "markdown",
   "metadata": {},
   "source": [
    "We have here two coupled equations: in order to the variables to respect both at each time step, we need an iterative scheme with a correction of the pressure at each iteration. For this correction, we use the SIMPLE algorithm.\n",
    "We introduce a new pressure variable that corresponds to the pressure once it has been corrected by the second equation, that will be used to begin again the iteration."
   ]
  },
  {
   "cell_type": "code",
   "execution_count": 10,
   "metadata": {
    "collapsed": true
   },
   "outputs": [],
   "source": [
    "pressureCorrection = CellVariable(mesh=mesh)"
   ]
  },
  {
   "cell_type": "markdown",
   "metadata": {},
   "source": [
    "We then introduce the equations: equation of motion, here Darcy's law and equation of continuity, permitting the correction of the pressure. (need to precise this point to explain better)"
   ]
  },
  {
   "cell_type": "code",
   "execution_count": 11,
   "metadata": {
    "collapsed": true
   },
   "outputs": [],
   "source": [
    "xVelocityEq = (ImplicitSourceTerm(coeff=beta) + pressure.grad[0]) #Darcy's law\n",
    "\n",
    "ap = CellVariable(mesh=mesh, value=1.)\n",
    "coeff = 1./ ap.arithmeticFaceValue * mesh._faceAreas * mesh._cellDistances\n",
    "X = mesh.cellCenters[0]\n",
    "pressureCorrectionEq = DiffusionTerm(coeff=coeff) - velocity.divergence "
   ]
  },
  {
   "cell_type": "markdown",
   "metadata": {},
   "source": [
    "### Rhie-Chow correction"
   ]
  },
  {
   "cell_type": "markdown",
   "metadata": {},
   "source": [
    "FiPy uses a colocated grid, causing oscillations in the velocity field. It is necessary to apply a correction."
   ]
  },
  {
   "cell_type": "code",
   "execution_count": 12,
   "metadata": {
    "collapsed": true
   },
   "outputs": [],
   "source": [
    "from fipy.variables.faceGradVariable import _FaceGradVariable\n",
    "volume = CellVariable(mesh=mesh, value=mesh.cellVolumes, name='Volume')\n",
    "contrvolume=volume.arithmeticFaceValue"
   ]
  },
  {
   "cell_type": "markdown",
   "metadata": {},
   "source": [
    "## Boundary conditions"
   ]
  },
  {
   "cell_type": "markdown",
   "metadata": {},
   "source": [
    "### Phase"
   ]
  },
  {
   "cell_type": "markdown",
   "metadata": {},
   "source": [
    "Phi is set up as a crenau function in the beginning. Later, we sill set up other initial conditions so that we have a small random perturbation that permits the formation of fingers. Normally, here the fluids should advance without perturbation. \n",
    "(I think the first line is to define x as the first axis so we can define the boundary conditions.)"
   ]
  },
  {
   "cell_type": "code",
   "execution_count": 13,
   "metadata": {
    "collapsed": true
   },
   "outputs": [],
   "source": [
    "x = mesh.cellCenters[0]\n",
    "def initialize(phi):\n",
    "\tphi.setValue(0.)\n",
    "\tphi.setValue(1., where=x > nx*dx/2)\n",
    "\n",
    "initialize(phi)"
   ]
  },
  {
   "cell_type": "markdown",
   "metadata": {},
   "source": [
    "### Velocity and pressure"
   ]
  },
  {
   "cell_type": "markdown",
   "metadata": {},
   "source": [
    "We decide the rate of injection of the first fluid.\n",
    "The boundary conditions are set on the velocity so that the rate is respected and the quantity of volume is conserved (incompressible fluids)."
   ]
  },
  {
   "cell_type": "code",
   "execution_count": 14,
   "metadata": {
    "collapsed": true
   },
   "outputs": [],
   "source": [
    "Q = 1. #rate of injection\n",
    "#U = Q / (b*W)\n",
    "U = 0.8 #if more, it gets unstable, I should change the time step\n",
    "xVelocity.constrain(U, mesh.facesRight | mesh.facesLeft)\n",
    "X = mesh.faceCenters\n",
    "pressureCorrection.constrain(0., mesh.facesLeft)"
   ]
  },
  {
   "cell_type": "markdown",
   "metadata": {},
   "source": [
    "## Viewers"
   ]
  },
  {
   "cell_type": "code",
   "execution_count": 18,
   "metadata": {},
   "outputs": [
    {
     "data": {
      "image/png": "[encoded data removed]",
      "text/plain": [
       "<matplotlib.figure.Figure at 0x7f89a9e57510>"
      ]
     },
     "metadata": {},
     "output_type": "display_data"
    },
    {
     "data": {
      "image/png": "[encoded data removed]",
      "text/plain": [
       "<matplotlib.figure.Figure at 0x7f89a9b40410>"
      ]
     },
     "metadata": {},
     "output_type": "display_data"
    }
   ],
   "source": [
    "viewer = Viewer(vars = (phi,xVelocity), datamin=-1., datamax=2.)\n",
    "viewer2 = Viewer(vars = (phi, pressure, xVelocity))"
   ]
  },
  {
   "cell_type": "markdown",
   "metadata": {},
   "source": [
    "## Initialization"
   ]
  },
  {
   "cell_type": "markdown",
   "metadata": {},
   "source": [
    "We need to initialize the phase-field to separate the effcet of forming from the effect of moving it. For this, we need to have the initial fields of the pressure and the velocity."
   ]
  },
  {
   "cell_type": "markdown",
   "metadata": {},
   "source": [
    "### Phase field"
   ]
  },
  {
   "cell_type": "markdown",
   "metadata": {},
   "source": [
    "The time step here is only used to resolve the equation. But the iteration here are not time steps, but iteartion to getr a more accurate solution: by using the new value obtained at the solving of the equation, we are closer to the solution, so by solving it again with this value, we get a more little residual, a more accurate solution. (we have a descritez solution, so the closer the values are when solving, the solution gets more accurate : by convergence.) (need to get this clearer)"
   ]
  },
  {
   "cell_type": "code",
   "execution_count": 16,
   "metadata": {},
   "outputs": [
    {
     "name": "stderr",
     "output_type": "stream",
     "text": [
      "/home/aude/miniconda2/envs/MYFIPYENV/lib/python2.7/site-packages/fipy/variables/variable.py:1165: RuntimeWarning: invalid value encountered in divide\n",
      "  return self._BinaryOperatorVariable(lambda a,b: a/b, other)\n",
      "/home/aude/miniconda2/envs/MYFIPYENV/lib/python2.7/site-packages/fipy/terms/powerLawConvectionTerm.py:100: RuntimeWarning: invalid value encountered in less\n",
      "  P = numerix.where(abs(P) < eps, eps, P)\n",
      "/home/aude/miniconda2/envs/MYFIPYENV/lib/python2.7/site-packages/fipy/terms/powerLawConvectionTerm.py:102: RuntimeWarning: invalid value encountered in greater\n",
      "  alpha = numerix.where(                  P > 10.,                     (P - 1.) / P,   0.5)\n",
      "/home/aude/miniconda2/envs/MYFIPYENV/lib/python2.7/site-packages/fipy/terms/powerLawConvectionTerm.py:106: RuntimeWarning: invalid value encountered in less_equal\n",
      "  alpha = numerix.where(  (10. >= P) & (P > eps), ((P-1.) + tmpSqr*tmpSqr*tmp) / P, alpha)\n",
      "/home/aude/miniconda2/envs/MYFIPYENV/lib/python2.7/site-packages/fipy/terms/powerLawConvectionTerm.py:106: RuntimeWarning: invalid value encountered in greater\n",
      "  alpha = numerix.where(  (10. >= P) & (P > eps), ((P-1.) + tmpSqr*tmpSqr*tmp) / P, alpha)\n",
      "/home/aude/miniconda2/envs/MYFIPYENV/lib/python2.7/site-packages/fipy/terms/powerLawConvectionTerm.py:110: RuntimeWarning: invalid value encountered in less\n",
      "  alpha = numerix.where((-eps >  P) & (P >= -10.),     (tmpSqr*tmpSqr*tmp - 1.) / P, alpha)\n",
      "/home/aude/miniconda2/envs/MYFIPYENV/lib/python2.7/site-packages/fipy/terms/powerLawConvectionTerm.py:110: RuntimeWarning: invalid value encountered in greater_equal\n",
      "  alpha = numerix.where((-eps >  P) & (P >= -10.),     (tmpSqr*tmpSqr*tmp - 1.) / P, alpha)\n",
      "/home/aude/miniconda2/envs/MYFIPYENV/lib/python2.7/site-packages/fipy/terms/powerLawConvectionTerm.py:112: RuntimeWarning: invalid value encountered in less\n",
      "  alpha = numerix.where(                 P < -10.,                          -1. / P, alpha)\n"
     ]
    },
    {
     "data": {
      "text/plain": [
       "<matplotlib.figure.Figure at 0x7f89aa474850>"
      ]
     },
     "metadata": {},
     "output_type": "display_data"
    }
   ],
   "source": [
    "timeStep = 10\n",
    "for i in range(20):\n",
    "    phi.updateOld()\n",
    "    res = 1e+10\n",
    "    while res > 1e-7:\n",
    "        res = eq.sweep(var=phi, dt=timeStep)\n",
    "\n",
    "if __name__ == '__main__':\n",
    "    viewer.plot()"
   ]
  },
  {
   "cell_type": "markdown",
   "metadata": {},
   "source": [
    "### Pressure and velocity fields"
   ]
  },
  {
   "cell_type": "markdown",
   "metadata": {},
   "source": [
    "We use the SIMPLE algorithm that we will use at each iteration.\n",
    "The relaxation are kept the same as in the example. (need to review the exact utility)"
   ]
  },
  {
   "cell_type": "code",
   "execution_count": 17,
   "metadata": {},
   "outputs": [
    {
     "data": {
      "text/plain": [
       "<matplotlib.figure.Figure at 0x7f89a9bb1a10>"
      ]
     },
     "metadata": {},
     "output_type": "display_data"
    }
   ],
   "source": [
    "pressureRelaxation = 0.8\n",
    "velocityRelaxation = 0.5\n",
    "\n",
    "sweeps = 50\n",
    "for sweep in range(sweeps):\n",
    "    ##Solve the Stokes equations to get starred values\n",
    "    xVelocityEq.cacheMatrix()\n",
    "    xres = xVelocityEq.sweep(var=xVelocity, underRelaxation=velocityRelaxation)\n",
    "    xmat = xVelocityEq.matrix\n",
    "    ##update the ap coefficient from the matrix diagonal\n",
    "    ap[:] = xmat.takeDiagonal()\n",
    "    #\n",
    "    ##update the face velocities based on starred values with the Rhi-Chow correction\n",
    "    #cell pressure gradient\n",
    "    presgrad = pressure.grad\n",
    "    #face pressure gradient\n",
    "    facepresgrad = _FaceGradVariable(pressure)\n",
    "    #\n",
    "    velocity[0] = xVelocity.arithmeticFaceValue + contrvolume / ap.arithmeticFaceValue * (presgrad[0].arithmeticFaceValue-facepresgrad[0])\n",
    "    #velocity[..., mesh.exteriorFaces.value]=0.\n",
    "    #velocity[0].constrain(U, mesh.facesRight | mesh.facesLeft)\n",
    "    #\n",
    "    ##solve the pressure correction equation\n",
    "    pressureCorrectionEq.cacheRHSvector()\n",
    "    ## left bottom point must remain at pressure 0, so no correction\n",
    "    pres = pressureCorrectionEq.sweep(var=pressureCorrection)\n",
    "    rhs = pressureCorrectionEq.RHSvector\n",
    "    #\n",
    "    ## update the pressure using the corrected value\n",
    "    pressure.setValue(pressure + pressureRelaxation * pressureCorrection)\n",
    "    ## update the velocity using the corrected pressure\n",
    "    xVelocity.setValue(xVelocity - pressureCorrection.grad[0] / ap * mesh.cellVolumes)\n",
    "    if sweep%10 == 0:\n",
    "        viewer2.plot()"
   ]
  },
  {
   "cell_type": "markdown",
   "metadata": {},
   "source": [
    "## Dynamics"
   ]
  },
  {
   "cell_type": "markdown",
   "metadata": {},
   "source": [
    "do functions, so that only the last algorithm is needed.\n",
    "\n",
    "The reisduals need to be decided."
   ]
  },
  {
   "cell_type": "code",
   "execution_count": null,
   "metadata": {
    "collapsed": true
   },
   "outputs": [],
   "source": [
    "viewer.plot()\n",
    "\n",
    "x = mesh.cellCenters[0]    \n",
    "\n",
    "displacement = 100.\n",
    "#velocity1 = 1.\n",
    "timeStep = .1 * dx / U\n",
    "elapsed = 0.\n",
    "while elapsed < displacement/U:\n",
    "    phi.updateOld()\n",
    "    res = 1e+10\n",
    "    while res > 1e-5:\n",
    "        res = eq.sweep(var=phi, dt=timeStep)\n",
    "    elapsed +=timeStep\n",
    "    if __name__ == '__main__':\n",
    "        viewer.plot()\n"
   ]
  }
 ],
 "metadata": {
  "kernelspec": {
   "display_name": "Python 2",
   "language": "python",
   "name": "python2"
  },
  "language_info": {
   "codemirror_mode": {
    "name": "ipython",
    "version": 2
   },
   "file_extension": ".py",
   "mimetype": "text/x-python",
   "name": "python",
   "nbconvert_exporter": "python",
   "pygments_lexer": "ipython2",
   "version": "2.7.13"
  }
 },
 "nbformat": 4,
 "nbformat_minor": 2
}
