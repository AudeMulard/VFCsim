{
 "cells": [
  {
   "cell_type": "markdown",
   "metadata": {},
   "source": [
    "# Presentation of the code"
   ]
  },
  {
   "cell_type": "markdown",
   "metadata": {},
   "source": [
    "Import package fipy: ('\\*'means import all functions).\n",
    "Import random for the initial condition of the interface."
   ]
  },
  {
   "cell_type": "code",
   "execution_count": 1,
   "metadata": {
    "collapsed": true
   },
   "outputs": [],
   "source": [
    "from fipy import *\n",
    "import random"
   ]
  },
  {
   "cell_type": "markdown",
   "metadata": {},
   "source": [
    "## Geometry and mesh"
   ]
  },
  {
   "cell_type": "markdown",
   "metadata": {},
   "source": [
    "We first install the geometry of the situation.\n",
    "The simulation is 2D (W=1., L=1.)."
   ]
  },
  {
   "cell_type": "markdown",
   "metadata": {},
   "source": [
    "### Space"
   ]
  },
  {
   "cell_type": "code",
   "execution_count": 4,
   "metadata": {
    "collapsed": true
   },
   "outputs": [],
   "source": [
    "L = 1. #length\n",
    "W = 1. #width: characteristic length\n",
    "b = 1. #gap"
   ]
  },
  {
   "cell_type": "markdown",
   "metadata": {},
   "source": [
    "### Mesh"
   ]
  },
  {
   "cell_type": "markdown",
   "metadata": {},
   "source": [
    "The mesh is decided with the length of one controle volume. (besoin de étude de convergence)"
   ]
  },
  {
   "cell_type": "code",
   "execution_count": 5,
   "metadata": {
    "collapsed": true
   },
   "outputs": [],
   "source": [
    "#Mesh\n",
    "dx = 0.25 #width of controle volume\n",
    "dy = 0.10\n",
    "nx = 100\n",
    "ny = 250 #number of controle volume\n",
    "mesh = Grid2D(dx=dx, dy=dy, nx=nx, ny=ny)"
   ]
  },
  {
   "cell_type": "markdown",
   "metadata": {},
   "source": [
    "## Description of the fluids"
   ]
  },
  {
   "cell_type": "markdown",
   "metadata": {},
   "source": [
    "### Parameters"
   ]
  },
  {
   "cell_type": "markdown",
   "metadata": {},
   "source": [
    "Fluid 1 is the active fluid, less viscous. phi = 0. viscosity1=0.1.\n",
    "\n",
    "Fluid 2 is the passive fluid, more viscous. phi = 1. viscosity2=1. \n",
    "\n",
    "The two permeabilities are set to 1.\n",
    "\n",
    "We introduce the parameter beta, easier to use."
   ]
  },
  {
   "cell_type": "code",
   "execution_count": 6,
   "metadata": {
    "collapsed": true
   },
   "outputs": [],
   "source": [
    "viscosity2 = 1.\n",
    "Mobility = 0.1 #ratio of the two viscosities\n",
    "viscosity1 = viscosity2 * Mobility\n",
    "permeability1 = permeability2 = 1.\n",
    "beta1 = viscosity1 / permeability1\n",
    "beta2 = viscosity2 / permeability2"
   ]
  },
  {
   "cell_type": "markdown",
   "metadata": {},
   "source": [
    "### Variable of the fluids"
   ]
  },
  {
   "cell_type": "markdown",
   "metadata": {},
   "source": [
    "The grid is colocated in FiPy. We need to introduce a correction in the velocity to suppress oscillations. Therefore we need two variables of speed.\n",
    "\n",
    "We have here two coupled equations: in order to the variables to respect both at each time step, we need an iterative scheme with a correction of the pressure at each iteration. For this correction, we use the SIMPLE algorithm.\n",
    "We introduce a new pressure variable that corresponds to the pressure once it has been corrected by the second equation, that will be used to begin again the iteration."
   ]
  },
  {
   "cell_type": "code",
   "execution_count": 7,
   "metadata": {
    "collapsed": true
   },
   "outputs": [],
   "source": [
    "pressure = CellVariable(mesh=mesh, name='pressure')\n",
    "pressureCorrection = CellVariable(mesh=mesh)\n",
    "xVelocity = CellVariable(mesh=mesh, name='X Velocity')\n",
    "yVelocity = CellVariable(mesh=mesh, name='Y Velocity')\n",
    "velocity = FaceVariable(mesh=mesh, rank=1)"
   ]
  },
  {
   "cell_type": "markdown",
   "metadata": {},
   "source": [
    "## Phase-field model"
   ]
  },
  {
   "cell_type": "markdown",
   "metadata": {},
   "source": [
    "### Order parameter"
   ]
  },
  {
   "cell_type": "markdown",
   "metadata": {},
   "source": [
    "The order parameter is phi. The hasOld option is important, because the phase-field equation is not linear so we need to iterate the solving of the equation at each time step. The commad hasOld permits to update the value of phi to use at the end of the iterations only."
   ]
  },
  {
   "cell_type": "code",
   "execution_count": 8,
   "metadata": {},
   "outputs": [],
   "source": [
    "phi = CellVariable(name=r'$\\phi$', mesh=mesh, hasOld=1)"
   ]
  },
  {
   "cell_type": "markdown",
   "metadata": {},
   "source": [
    "### New values"
   ]
  },
  {
   "cell_type": "markdown",
   "metadata": {},
   "source": [
    "The phase-field method means that the two fluids are not separated anymore: this means all the variable have to be defined on the whole domain. The particular variables are transformed by interpolation."
   ]
  },
  {
   "cell_type": "code",
   "execution_count": 9,
   "metadata": {
    "collapsed": true
   },
   "outputs": [],
   "source": [
    "beta = CellVariable(mesh=mesh, name='beta', value = beta2 * phi + beta1 * (1-phi), hasOld=1)"
   ]
  },
  {
   "cell_type": "markdown",
   "metadata": {},
   "source": [
    "### Parameters of Phase field equation"
   ]
  },
  {
   "cell_type": "markdown",
   "metadata": {},
   "source": [
    "The Cahn number is defined thanks to the values of the paper for the moment. Justification?\n",
    "l is chosen as 1 because its impact is still to define."
   ]
  },
  {
   "cell_type": "code",
   "execution_count": 10,
   "metadata": {
    "collapsed": true
   },
   "outputs": [],
   "source": [
    "#Cahn_number = 0.001\n",
    "epsilon = 0.1\n",
    "M = Mobility * epsilon**2\n",
    "l = 1."
   ]
  },
  {
   "cell_type": "markdown",
   "metadata": {},
   "source": [
    "### Phase-field equation"
   ]
  },
  {
   "cell_type": "markdown",
   "metadata": {},
   "source": [
    "The equation chosen for the phase-field is base on Cahn-Hilliard model as described in the paper. (need of a better explanation here)\n",
    "The first line is the creation of an interpolation of the value of phi on to the faces. FiPy would have it done automatically, but it is more accurate to do it by arithmeticFaceValue (We also get to choose what type of interpolation we use) (why arithmetic?? I think because more precise is not needed, but I need to review, not the priority though)"
   ]
  },
  {
   "cell_type": "code",
   "execution_count": 11,
   "metadata": {
    "collapsed": true
   },
   "outputs": [],
   "source": [
    "PHI = phi.arithmeticFaceValue #result more accurate by non-linear interpolation\n",
    "coeff1 = Mobility * l * (6.* PHI*(PHI-1.) + 1.)\n",
    "eq = (TransientTerm() + ConvectionTerm(velocity) == DiffusionTerm(coeff=coeff1) - DiffusionTerm(coeff=(M, l)))"
   ]
  },
  {
   "cell_type": "markdown",
   "metadata": {},
   "source": [
    "## Pressure and velocity"
   ]
  },
  {
   "cell_type": "markdown",
   "metadata": {},
   "source": [
    "### Equations"
   ]
  },
  {
   "cell_type": "markdown",
   "metadata": {},
   "source": [
    "We then introduce the equations: equation of motion, here Darcy's law and equation of continuity, permitting the correction of the pressure. (need to precise this point to explain better)"
   ]
  },
  {
   "cell_type": "code",
   "execution_count": 12,
   "metadata": {
    "collapsed": true
   },
   "outputs": [],
   "source": [
    "xVelocityEq = (ImplicitSourceTerm(coeff=beta) + pressure.grad.dot([1.,0.]))\n",
    "yVelocityEq = (ImplicitSourceTerm(coeff=beta) + pressure.grad.dot([0.,1.]))"
   ]
  },
  {
   "cell_type": "code",
   "execution_count": 13,
   "metadata": {
    "collapsed": true
   },
   "outputs": [],
   "source": [
    "ap = CellVariable(mesh=mesh, value=1.)\n",
    "coeff = 1./ ap.arithmeticFaceValue * mesh._faceAreas * mesh._cellDistances\n",
    "X = mesh.cellCenters[0]\n",
    "pressureCorrectionEq = DiffusionTerm(coeff=coeff) - velocity.divergence"
   ]
  },
  {
   "cell_type": "markdown",
   "metadata": {},
   "source": [
    "### Rhie-Chow correction"
   ]
  },
  {
   "cell_type": "markdown",
   "metadata": {},
   "source": [
    "FiPy uses a colocated grid, causing oscillations in the velocity field. It is necessary to apply a correction."
   ]
  },
  {
   "cell_type": "code",
   "execution_count": 14,
   "metadata": {
    "collapsed": true
   },
   "outputs": [],
   "source": [
    "#Remove oscillations\n",
    "from fipy.variables.faceGradVariable import _FaceGradVariable\n",
    "volume = CellVariable(mesh=mesh, value=mesh.cellVolumes, name='Volume')\n",
    "contrvolume=volume.arithmeticFaceValue"
   ]
  },
  {
   "cell_type": "markdown",
   "metadata": {},
   "source": [
    "## Boundary conditions"
   ]
  },
  {
   "cell_type": "markdown",
   "metadata": {},
   "source": [
    "### Phase"
   ]
  },
  {
   "cell_type": "markdown",
   "metadata": {},
   "source": [
    "The first line is the outflow condition on the right.\n",
    "\n",
    "Phi is set up as a crenau function in the beginning. We set up a random initial condition in the position of the front phase so that we have a small random perturbation that permits the formation of fingers.\n",
    "'x,y = mesh.cellCenters' is to define x as the first axis so we can define the boundary conditions."
   ]
  },
  {
   "cell_type": "code",
   "execution_count": 15,
   "metadata": {
    "collapsed": true
   },
   "outputs": [],
   "source": [
    "phi.faceGrad.constrain([0.], mesh.facesRight)\n",
    "\n",
    "x,y = mesh.cellCenters\n",
    "def initialize(phi):\n",
    "    phi.setValue(0.)\n",
    "    for i in range(ny):\n",
    "        a = random.gauss(0.1, 0.01)\n",
    "        phi.setValue(1., where=(x > nx*dx * a ) & (y<(i+1)*dy) & (y>(i*dy)))\n",
    "\n",
    "initialize(phi)"
   ]
  },
  {
   "cell_type": "markdown",
   "metadata": {},
   "source": [
    "### Velocity and pressure"
   ]
  },
  {
   "cell_type": "markdown",
   "metadata": {},
   "source": [
    "We decide the rate of injection of the first fluid.\n",
    "The boundary conditions are set on the velocity so that the rate is respected and the quantity of volume is conserved (incompressible fluids)."
   ]
  },
  {
   "cell_type": "code",
   "execution_count": 16,
   "metadata": {
    "collapsed": true
   },
   "outputs": [],
   "source": [
    "Q = 1. #rate of injection\n",
    "#U = Q / (b*W)\n",
    "U = 0.8 #if more, it gets unstable, I should change the time step"
   ]
  },
  {
   "cell_type": "markdown",
   "metadata": {},
   "source": [
    "## Initialization"
   ]
  },
  {
   "cell_type": "markdown",
   "metadata": {},
   "source": [
    "We need to initialize the phase-field to separate the effcet of forming from the effect of moving it. For this, we need to have the initial fields of the pressure and the velocity.\n",
    "\n",
    "We introduce functions so we will be able to speed the code by compiling it."
   ]
  },
  {
   "cell_type": "markdown",
   "metadata": {},
   "source": [
    "### Phase field"
   ]
  },
  {
   "cell_type": "markdown",
   "metadata": {},
   "source": [
    "The time step here is only used to resolve the equation. But the iteration here are not time steps, but iteartion to getr a more accurate solution: by using the new value obtained at the solving of the equation, we are closer to the solution, so by solving it again with this value, we get a more little residual, a more accurate solution. (we have a descritez solution, so the closer the values are when solving, the solution gets more accurate : by convergence.) (need to get this clearer)"
   ]
  },
  {
   "cell_type": "code",
   "execution_count": 17,
   "metadata": {},
   "outputs": [
    {
     "ename": "KeyboardInterrupt",
     "evalue": "",
     "output_type": "error",
     "traceback": [
      "\u001b[0;31m---------------------------------------------------------------------------\u001b[0m",
      "\u001b[0;31mKeyboardInterrupt\u001b[0m                         Traceback (most recent call last)",
      "\u001b[0;32m<ipython-input-17-a9c23ae9a610>\u001b[0m in \u001b[0;36m<module>\u001b[0;34m()\u001b[0m\n\u001b[1;32m     12\u001b[0m \u001b[0;34m\u001b[0m\u001b[0m\n\u001b[1;32m     13\u001b[0m \u001b[0;32mfor\u001b[0m \u001b[0mi\u001b[0m \u001b[0;32min\u001b[0m \u001b[0mrange\u001b[0m\u001b[0;34m(\u001b[0m\u001b[0;36m50\u001b[0m\u001b[0;34m)\u001b[0m\u001b[0;34m:\u001b[0m\u001b[0;34m\u001b[0m\u001b[0m\n\u001b[0;32m---> 14\u001b[0;31m     \u001b[0mupdatephi\u001b[0m\u001b[0;34m(\u001b[0m\u001b[0;34m)\u001b[0m\u001b[0;34m\u001b[0m\u001b[0m\n\u001b[0m",
      "\u001b[0;32m<ipython-input-17-a9c23ae9a610>\u001b[0m in \u001b[0;36mupdatephi\u001b[0;34m()\u001b[0m\n\u001b[1;32m      8\u001b[0m     \u001b[0mres\u001b[0m \u001b[0;34m=\u001b[0m \u001b[0;36m1e+10\u001b[0m\u001b[0;34m\u001b[0m\u001b[0m\n\u001b[1;32m      9\u001b[0m     \u001b[0;32mwhile\u001b[0m \u001b[0mres\u001b[0m \u001b[0;34m>\u001b[0m \u001b[0;36m1e-10\u001b[0m\u001b[0;34m:\u001b[0m\u001b[0;34m\u001b[0m\u001b[0m\n\u001b[0;32m---> 10\u001b[0;31m         \u001b[0mres\u001b[0m \u001b[0;34m=\u001b[0m \u001b[0meq\u001b[0m\u001b[0;34m.\u001b[0m\u001b[0msweep\u001b[0m\u001b[0;34m(\u001b[0m\u001b[0mvar\u001b[0m\u001b[0;34m=\u001b[0m\u001b[0mphi\u001b[0m\u001b[0;34m,\u001b[0m \u001b[0mdt\u001b[0m\u001b[0;34m=\u001b[0m\u001b[0mtimeStep\u001b[0m\u001b[0;34m)\u001b[0m\u001b[0;34m\u001b[0m\u001b[0m\n\u001b[0m\u001b[1;32m     11\u001b[0m \u001b[0;34m\u001b[0m\u001b[0m\n\u001b[1;32m     12\u001b[0m \u001b[0;34m\u001b[0m\u001b[0m\n",
      "\u001b[0;32m/home/aude/miniconda2/envs/MYFIPYENV/lib/python2.7/site-packages/fipy/terms/term.pyc\u001b[0m in \u001b[0;36msweep\u001b[0;34m(self, var, solver, boundaryConditions, dt, underRelaxation, residualFn, cacheResidual, cacheError)\u001b[0m\n\u001b[1;32m    252\u001b[0m             \u001b[0mself\u001b[0m\u001b[0;34m.\u001b[0m\u001b[0mresidualVector\u001b[0m \u001b[0;34m=\u001b[0m \u001b[0mNone\u001b[0m\u001b[0;34m\u001b[0m\u001b[0m\n\u001b[1;32m    253\u001b[0m \u001b[0;34m\u001b[0m\u001b[0m\n\u001b[0;32m--> 254\u001b[0;31m         \u001b[0msolver\u001b[0m\u001b[0;34m.\u001b[0m\u001b[0m_solve\u001b[0m\u001b[0;34m(\u001b[0m\u001b[0;34m)\u001b[0m\u001b[0;34m\u001b[0m\u001b[0m\n\u001b[0m\u001b[1;32m    255\u001b[0m \u001b[0;34m\u001b[0m\u001b[0m\n\u001b[1;32m    256\u001b[0m         \u001b[0;32mreturn\u001b[0m \u001b[0mresidual\u001b[0m\u001b[0;34m\u001b[0m\u001b[0m\n",
      "\u001b[0;32m/home/aude/miniconda2/envs/MYFIPYENV/lib/python2.7/site-packages/fipy/solvers/pysparse/pysparseSolver.pyc\u001b[0m in \u001b[0;36m_solve\u001b[0;34m(self)\u001b[0m\n\u001b[1;32m    101\u001b[0m             \u001b[0;32mraise\u001b[0m \u001b[0mSolutionVariableNumberError\u001b[0m\u001b[0;34m\u001b[0m\u001b[0m\n\u001b[1;32m    102\u001b[0m \u001b[0;34m\u001b[0m\u001b[0m\n\u001b[0;32m--> 103\u001b[0;31m         \u001b[0mself\u001b[0m\u001b[0;34m.\u001b[0m\u001b[0m_solve_\u001b[0m\u001b[0;34m(\u001b[0m\u001b[0mself\u001b[0m\u001b[0;34m.\u001b[0m\u001b[0mmatrix\u001b[0m\u001b[0;34m,\u001b[0m \u001b[0marray\u001b[0m\u001b[0;34m,\u001b[0m \u001b[0mself\u001b[0m\u001b[0;34m.\u001b[0m\u001b[0mRHSvector\u001b[0m\u001b[0;34m)\u001b[0m\u001b[0;34m\u001b[0m\u001b[0m\n\u001b[0m\u001b[1;32m    104\u001b[0m         \u001b[0mfactor\u001b[0m \u001b[0;34m=\u001b[0m \u001b[0mself\u001b[0m\u001b[0;34m.\u001b[0m\u001b[0mvar\u001b[0m\u001b[0;34m.\u001b[0m\u001b[0munit\u001b[0m\u001b[0;34m.\u001b[0m\u001b[0mfactor\u001b[0m\u001b[0;34m\u001b[0m\u001b[0m\n\u001b[1;32m    105\u001b[0m         \u001b[0;32mif\u001b[0m \u001b[0mfactor\u001b[0m \u001b[0;34m!=\u001b[0m \u001b[0;36m1\u001b[0m\u001b[0;34m:\u001b[0m\u001b[0;34m\u001b[0m\u001b[0m\n",
      "\u001b[0;32m/home/aude/miniconda2/envs/MYFIPYENV/lib/python2.7/site-packages/fipy/solvers/pysparse/linearLUSolver.pyc\u001b[0m in \u001b[0;36m_solve_\u001b[0;34m(self, L, x, b)\u001b[0m\n\u001b[1;32m     85\u001b[0m         \u001b[0mb\u001b[0m \u001b[0;34m=\u001b[0m \u001b[0mb\u001b[0m \u001b[0;34m*\u001b[0m \u001b[0;34m(\u001b[0m\u001b[0;36m1\u001b[0m \u001b[0;34m/\u001b[0m \u001b[0mmaxdiag\u001b[0m\u001b[0;34m)\u001b[0m\u001b[0;34m\u001b[0m\u001b[0m\n\u001b[1;32m     86\u001b[0m \u001b[0;34m\u001b[0m\u001b[0m\n\u001b[0;32m---> 87\u001b[0;31m         \u001b[0mLU\u001b[0m \u001b[0;34m=\u001b[0m \u001b[0msuperlu\u001b[0m\u001b[0;34m.\u001b[0m\u001b[0mfactorize\u001b[0m\u001b[0;34m(\u001b[0m\u001b[0mL\u001b[0m\u001b[0;34m.\u001b[0m\u001b[0mmatrix\u001b[0m\u001b[0;34m.\u001b[0m\u001b[0mto_csr\u001b[0m\u001b[0;34m(\u001b[0m\u001b[0;34m)\u001b[0m\u001b[0;34m)\u001b[0m\u001b[0;34m\u001b[0m\u001b[0m\n\u001b[0m\u001b[1;32m     88\u001b[0m \u001b[0;34m\u001b[0m\u001b[0m\n\u001b[1;32m     89\u001b[0m         \u001b[0;32mif\u001b[0m \u001b[0mDEBUG\u001b[0m\u001b[0;34m:\u001b[0m\u001b[0;34m\u001b[0m\u001b[0m\n",
      "\u001b[0;32m/home/aude/miniconda2/envs/MYFIPYENV/lib/python2.7/site-packages/pysparse/misc/__init__.pyc\u001b[0m in \u001b[0;36mnewFunc\u001b[0;34m(*args, **kwargs)\u001b[0m\n\u001b[1;32m     27\u001b[0m                             \u001b[0mcategory\u001b[0m\u001b[0;34m=\u001b[0m\u001b[0mDeprecationWarning\u001b[0m\u001b[0;34m,\u001b[0m\u001b[0;34m\u001b[0m\u001b[0m\n\u001b[1;32m     28\u001b[0m                             stacklevel=2)\n\u001b[0;32m---> 29\u001b[0;31m             \u001b[0;32mreturn\u001b[0m \u001b[0mfunc\u001b[0m\u001b[0;34m(\u001b[0m\u001b[0;34m*\u001b[0m\u001b[0margs\u001b[0m\u001b[0;34m,\u001b[0m \u001b[0;34m**\u001b[0m\u001b[0mkwargs\u001b[0m\u001b[0;34m)\u001b[0m\u001b[0;34m\u001b[0m\u001b[0m\n\u001b[0m\u001b[1;32m     30\u001b[0m         \u001b[0mnewFunc\u001b[0m\u001b[0;34m.\u001b[0m\u001b[0m__name__\u001b[0m \u001b[0;34m=\u001b[0m \u001b[0mfunc\u001b[0m\u001b[0;34m.\u001b[0m\u001b[0m__name__\u001b[0m\u001b[0;34m\u001b[0m\u001b[0m\n\u001b[1;32m     31\u001b[0m         \u001b[0mnewFunc\u001b[0m\u001b[0;34m.\u001b[0m\u001b[0m__doc__\u001b[0m \u001b[0;34m=\u001b[0m \u001b[0mfunc\u001b[0m\u001b[0;34m.\u001b[0m\u001b[0m__doc__\u001b[0m\u001b[0;34m\u001b[0m\u001b[0m\n",
      "\u001b[0;32m/home/aude/miniconda2/envs/MYFIPYENV/lib/python2.7/site-packages/pysparse/__init__.pyc\u001b[0m in \u001b[0;36mfactorize\u001b[0;34m(self, *args, **kwargs)\u001b[0m\n\u001b[1;32m     45\u001b[0m         \u001b[0;32mimport\u001b[0m \u001b[0mpysparse\u001b[0m\u001b[0;34m.\u001b[0m\u001b[0mdirect\u001b[0m\u001b[0;34m.\u001b[0m\u001b[0msuperlu\u001b[0m\u001b[0;34m\u001b[0m\u001b[0m\n\u001b[1;32m     46\u001b[0m         \u001b[0mself\u001b[0m\u001b[0;34m.\u001b[0m\u001b[0mfactorizeFnc\u001b[0m \u001b[0;34m=\u001b[0m \u001b[0mpysparse\u001b[0m\u001b[0;34m.\u001b[0m\u001b[0mdirect\u001b[0m\u001b[0;34m.\u001b[0m\u001b[0msuperlu\u001b[0m\u001b[0;34m.\u001b[0m\u001b[0mfactorize\u001b[0m\u001b[0;34m\u001b[0m\u001b[0m\n\u001b[0;32m---> 47\u001b[0;31m         \u001b[0;32mreturn\u001b[0m \u001b[0mself\u001b[0m\u001b[0;34m.\u001b[0m\u001b[0mfactorizeFnc\u001b[0m\u001b[0;34m(\u001b[0m\u001b[0;34m*\u001b[0m\u001b[0margs\u001b[0m\u001b[0;34m,\u001b[0m \u001b[0;34m**\u001b[0m\u001b[0mkwargs\u001b[0m\u001b[0;34m)\u001b[0m\u001b[0;34m\u001b[0m\u001b[0m\n\u001b[0m\u001b[1;32m     48\u001b[0m \u001b[0;34m\u001b[0m\u001b[0m\n\u001b[1;32m     49\u001b[0m \u001b[0msuperlu\u001b[0m \u001b[0;34m=\u001b[0m \u001b[0m_superlu\u001b[0m\u001b[0;34m(\u001b[0m\u001b[0;34m)\u001b[0m\u001b[0;34m\u001b[0m\u001b[0m\n",
      "\u001b[0;31mKeyboardInterrupt\u001b[0m: "
     ]
    }
   ],
   "source": [
    "#Phase\n",
    "timeStep = 10.\n",
    "\n",
    "    \n",
    "def updatephi():\n",
    "    phi.updateOld()\n",
    "    beta.updateOld()\n",
    "    res = 1e+10\n",
    "    while res > 1e-10:\n",
    "        res = eq.sweep(var=phi, dt=timeStep)\n",
    "\n",
    "\n",
    "for i in range(50):\n",
    "    updatephi()"
   ]
  },
  {
   "cell_type": "markdown",
   "metadata": {},
   "source": [
    "### Pressure and velocity fields"
   ]
  },
  {
   "cell_type": "markdown",
   "metadata": {},
   "source": [
    "We use the SIMPLE algorithm that we will use at each iteration.\n",
    "The relaxation are kept the same as in the example. (need to review the exact utility)"
   ]
  },
  {
   "cell_type": "code",
   "execution_count": null,
   "metadata": {
    "collapsed": true
   },
   "outputs": [],
   "source": [
    "#Pressure and velocity\n",
    "pressureRelaxation = 0.8\n",
    "velocityRelaxation = 0.5\n",
    "X, Y = mesh.faceCenters\n",
    "xVelocity.constrain(U, mesh.facesLeft)\n",
    "#xVelocity.constrain(U, mesh.facesRight)\n",
    "pressureCorrection.constrain(0., mesh.facesRight)\n",
    "sweeps = 10\n",
    "\n",
    "    \n",
    "def velopres():\n",
    "    ##Solve the Stokes equations to get starred values\n",
    "    xVelocityEq.cacheMatrix()\n",
    "    xres = xVelocityEq.sweep(var=xVelocity, underRelaxation=velocityRelaxation)\n",
    "    xmat = xVelocityEq.matrix\n",
    "    yres = yVelocityEq.sweep(var=yVelocity, underRelaxation=velocityRelaxation)\n",
    "    ##update the ap coefficient from the matrix diagonal\n",
    "    ap[:] = xmat.takeDiagonal()\n",
    "    #\n",
    "    ##update the face velocities based on starred values with the Rhi-Chow correction\n",
    "    #cell pressure gradient\n",
    "    presgrad = pressure.grad\n",
    "    #face pressure gradient\n",
    "    facepresgrad = _FaceGradVariable(pressure)\n",
    "    #\n",
    "    velocity[0] = xVelocity.arithmeticFaceValue + contrvolume / ap.arithmeticFaceValue * (presgrad[0].arithmeticFaceValue-facepresgrad[0])\n",
    "    velocity[1] = yVelocity.arithmeticFaceValue + contrvolume / ap.arithmeticFaceValue * (presgrad[1].arithmeticFaceValue-facepresgrad[1])\n",
    "    #velocity[..., mesh.exteriorFaces.value]=0.\n",
    "    #velocity[0].constrain(U, mesh.facesRight | mesh.facesLeft)\n",
    "    #velocity[0, mesh.facesLeft.value] = U\n",
    "    #velocity[0, mesh.facesRight.value] = U\n",
    "    #\n",
    "    ##solve the pressure correction equation\n",
    "    pressureCorrectionEq.cacheRHSvector()\n",
    "    ## left bottom point must remain at pressure 0, so no correction\n",
    "    pres = pressureCorrectionEq.sweep(var=pressureCorrection)\n",
    "    rhs = pressureCorrectionEq.RHSvector\n",
    "    #\n",
    "    ## update the pressure using the corrected value\n",
    "    pressure.setValue(pressure + pressureRelaxation * pressureCorrection)\n",
    "    ## update the velocity using the corrected pressure\n",
    "    xVelocity.setValue(xVelocity - pressureCorrection.grad[0] / ap * mesh.cellVolumes)\n",
    "    yVelocity.setValue(yVelocity - pressureCorrection.grad[1] / ap * mesh.cellVolumes)\n",
    "    xVelocity[0]=U\n",
    "#    xVelocity[nx-1]=U\n",
    "#    if sweep%10 == 0:\n",
    "#        viewer2.plot()\n",
    "\n",
    "for sweep in range(sweeps):\n",
    "    velopres()"
   ]
  },
  {
   "cell_type": "markdown",
   "metadata": {},
   "source": [
    "## Dynamics"
   ]
  },
  {
   "cell_type": "code",
   "execution_count": null,
   "metadata": {
    "collapsed": true
   },
   "outputs": [],
   "source": [
    "x = mesh.cellCenters[0]    \n",
    "\n",
    "displacement = 12.\n",
    "#velocity1 = 1.\n",
    "timeStep = .1 * dx / U\n",
    "elapsed = 0.\n",
    "while elapsed < displacement/U:\n",
    "    updatephi()\n",
    "    elapsed +=timeStep\n",
    "    for sweep in range(sweeps):\n",
    "        velopres()"
   ]
  },
  {
   "cell_type": "markdown",
   "metadata": {},
   "source": [
    "## Viewers"
   ]
  },
  {
   "cell_type": "code",
   "execution_count": null,
   "metadata": {
    "collapsed": true
   },
   "outputs": [],
   "source": [
    "viewer = Viewer(vars = (phi,), datamin=0., datamax=1.)\n",
    "viewer.plot()    \n",
    "viewer2 = Viewer(vars = (xVelocity, yVelocity), datamin=-1., datamax=3.)\n",
    "viewer2.plot()"
   ]
  },
  {
   "cell_type": "markdown",
   "metadata": {},
   "source": [
    "This last line stops the code at the end so we are able to see the results."
   ]
  },
  {
   "cell_type": "code",
   "execution_count": null,
   "metadata": {},
   "outputs": [],
   "source": [
    "raw_input(\"pause\")"
   ]
  }
 ],
 "metadata": {
  "kernelspec": {
   "display_name": "Python 2",
   "language": "python",
   "name": "python2"
  },
  "language_info": {
   "codemirror_mode": {
    "name": "ipython",
    "version": 2
   },
   "file_extension": ".py",
   "mimetype": "text/x-python",
   "name": "python",
   "nbconvert_exporter": "python",
   "pygments_lexer": "ipython2",
   "version": "2.7.13"
  }
 },
 "nbformat": 4,
 "nbformat_minor": 2
}
