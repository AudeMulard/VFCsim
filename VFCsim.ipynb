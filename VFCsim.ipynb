{
 "cells": [
  {
   "cell_type": "markdown",
   "metadata": {},
   "source": [
    "# Presentation of the code"
   ]
  },
  {
   "cell_type": "markdown",
   "metadata": {},
   "source": [
    "Import package fipy: ('*' means import all fonctions)"
   ]
  },
  {
   "cell_type": "code",
   "execution_count": null,
   "metadata": {
    "collapsed": true
   },
   "outputs": [],
   "source": [
    "from fipy import *"
   ]
  },
  {
   "cell_type": "markdown",
   "metadata": {},
   "source": [
    "## Geometry and mesh"
   ]
  },
  {
   "cell_type": "markdown",
   "metadata": {},
   "source": [
    "We first install the geometry of the situation.\n",
    "The simulation is 1D (W=1., b=1.), relativ (L=1.)."
   ]
  },
  {
   "cell_type": "markdown",
   "metadata": {},
   "source": [
    "### Space"
   ]
  },
  {
   "cell_type": "code",
   "execution_count": null,
   "metadata": {
    "collapsed": true
   },
   "outputs": [],
   "source": [
    "L = 1. #length\n",
    "W = 1. #width: characteristic length\n",
    "b = 1. #gap"
   ]
  },
  {
   "cell_type": "markdown",
   "metadata": {},
   "source": [
    "### Mesh"
   ]
  },
  {
   "cell_type": "markdown",
   "metadata": {},
   "source": [
    "The mesh is composed of 400 elements. It is chosen the same as the fipy examples."
   ]
  },
  {
   "cell_type": "code",
   "execution_count": null,
   "metadata": {
    "collapsed": true
   },
   "outputs": [],
   "source": [
    "nx = 400 #number of controle volume\n",
    "dx = L/nx #width of controle volume\n",
    "mesh = Grid1D(dx=dx, nx=nx)"
   ]
  },
  {
   "cell_type": "markdown",
   "metadata": {},
   "source": [
    "## Description of the fluids"
   ]
  },
  {
   "cell_type": "markdown",
   "metadata": {},
   "source": [
    "### Parameters of the fluids"
   ]
  },
  {
   "cell_type": "markdown",
   "metadata": {},
   "source": [
    "Fluid 1 is the active fluid, less viscous. phi = 1.\n",
    "Fluid 2 is the passive fluid, more viscous. phi = 0.\n",
    "The two permeabilities are set to 1.\n",
    "We introduce the parameter beta, easier to use."
   ]
  },
  {
   "cell_type": "code",
   "execution_count": null,
   "metadata": {
    "collapsed": true
   },
   "outputs": [],
   "source": [
    "viscosity2 = 1.\n",
    "Mobility = 0.75 #ratio of the two viscosities\n",
    "viscosity1 = viscosity2 * Mobility\n",
    "permeability1 = permeability2 = 1.\n",
    "beta1 = - viscosity1 / permeability1\n",
    "beta2 = - viscosity2 / permeability2"
   ]
  },
  {
   "cell_type": "markdown",
   "metadata": {},
   "source": [
    "### Pressure and velocity fluids"
   ]
  },
  {
   "cell_type": "raw",
   "metadata": {},
   "source": [
    "The grid chosen is a staggered field, so that the kinetic energy is conserved and the coupling between pressure and velocity does not cause oscillations.\n",
    "The pressure is defined at the centre of the cells.\n",
    "The velocity is defined at the faces of the cells, as a vector."
   ]
  },
  {
   "cell_type": "code",
   "execution_count": null,
   "metadata": {
    "collapsed": true
   },
   "outputs": [],
   "source": [
    "pressure = CellVariable(mesh=mesh, name='pressure')\n",
    "Velocity = FaceVariable(mesh=mesh, name = 'Velocity', rank=1)"
   ]
  },
  {
   "cell_type": "markdown",
   "metadata": {},
   "source": [
    "## Phase-field model"
   ]
  },
  {
   "cell_type": "markdown",
   "metadata": {},
   "source": [
    "### Order parameter"
   ]
  },
  {
   "cell_type": "markdown",
   "metadata": {},
   "source": [
    "The order parameter is phi. The hasOld option is important, because the phase-field equation is not linear so we need "
   ]
  },
  {
   "cell_type": "code",
   "execution_count": null,
   "metadata": {
    "collapsed": true
   },
   "outputs": [],
   "source": [
    "#Order Parameter\n",
    "phi = CellVariable(name=r'$\\phi$', mesh=mesh, hasOld = 1)\n",
    "\n",
    "#Parameters\n",
    "Cahn_number = 0.001\n",
    "epsilon = Cahn_number * W\n",
    "M = Mobility * epsilon**2\n",
    "l = 1.\n",
    "\n",
    "#New values\n",
    "beta = CellVariable(mesh=mesh, name='beta')\n",
    "beta.setValue = beta1 * phi + beta2 * (1-phi)\n",
    "\n",
    "#Cahn-Hilliard equation\n",
    "PHI = phi.arithmeticFaceValue #result more accurate by non-linear interpolation\n",
    "coeff1 = Mobility * l * (3 * PHI**2 - 3 * PHI + 1/2)\n",
    "eq = (TransientTerm() + ConvectionTerm(Velocity) == DiffusionTerm(coeff=coeff1) + DiffusionTerm(coeff=(M, l)))\n",
    "\n",
    "#-----------------------------------------------------------------------\n",
    "#---------------Initialization and Boundary Conditions------------------\n",
    "#-----------------------------------------------------------------------\n",
    "\n",
    "x = mesh.cellCenters[0]\n",
    "def initialize(phi):\n",
    "\tphi.setValue(1.)\n",
    "\tphi.setValue(0., where=x > L/2)\n",
    "\n",
    "initialize(phi)\n",
    "\n",
    "#Boundary conditions\n",
    "Q = 1. #rate of injection\n",
    "Uinf = Q / (b*W)\n",
    "velocity.constrain(Uinf, where=mesh.facesRight | mesh.facesLeft)\n",
    "\n",
    "#-----------------------------------------------------------------------\n",
    "#-------------------------------Viewers---------------------------------\n",
    "#-----------------------------------------------------------------------\n",
    "\n",
    "#Viewer\n",
    "viewer = Viewer(vars = (phi,), datamin=0., datamax=1.)\n",
    "viewer2 = Viewer(vars = (phi, pressure, velocity))\n",
    "\n",
    "\n",
    "#-----------------------------------------------------------------------\n",
    "#----------------Computation of velocity and pressure-------------------\n",
    "#-----------------------------------------------------------------------\n",
    "\n",
    "sweeps = 300\n",
    "pressureRelaxation = 0.8\n",
    "velocityRelaxation = 0.5\n",
    "pressureCorrection = CellVariable(mesh=mesh)\n",
    "\n",
    "velocityEq = (ImplicitSourceTerm(coeff=beta) == pressure.grad[1.,]) #Darcy's law\n",
    "\n",
    "ap = CellVariable(mesh=mesh, value=1.)\n",
    "\n",
    "coeff = 1./ ap.arithmeticFaceValue * mesh._faceAreas * mesh._cellDistances\n",
    "pressureCorrectionEq = DiffusionTerm(coeff=coeff) - Velocity.divergence \n",
    "x = mesh.faceCenters[0]\n",
    "pressureCorrection.constrain(0., mesh.facesLeft)\n",
    "\n",
    "#Initialisation of velocity and pressure field:\n",
    "\n",
    "for sweep in range(sweeps):\n",
    "    ##Solve the Stokes equations to get starred values\n",
    "    velocityEq.cacheMatrix()\n",
    "    vres = velocityEq.sweep(var=Velocity, underRelaxation=velocityRelaxation)\n",
    "    xmat = xVelocityEq.matrix\n",
    "    yres = yVelocityEq.sweep(var=yVelocity,\n",
    "                             underRelaxation=velocityRelaxation)\n",
    "    ##update the ap coefficient from the matrix diagonal\n",
    "    ap[:] = -xmat.takeDiagonal()\n",
    "    ##solve the pressure correction equation\n",
    "    pressureCorrectionEq.cacheRHSvector()\n",
    "    ## left bottom point must remain at pressure 0, so no correction\n",
    "    pres = pressureCorrectionEq.sweep(var=pressureCorrection)\n",
    "    rhs = pressureCorrectionEq.RHSvector\n",
    "    #\n",
    "    ## update the pressure using the corrected value\n",
    "    pressure.setValue(pressure + pressureRelaxation * pressureCorrection)\n",
    "    ## update the velocity using the corrected pressure\n",
    "    xVelocity.setValue(xVelocity - pressureCorrection.grad[0] / ap * mesh.cellVolumes)\n",
    "    #\n",
    "    if __name__ == '__main__':\n",
    "        if sweep%10 == 0:\n",
    "            print 'sweep:',sweep,', x residual:',xres, ', y residual:',yres, ', p residual:', pres, ', continuity:', max(abs(rhs))\n",
    "            viewer.plot()\n",
    "\n",
    "#-----------------------------------------------------------------------\n",
    "#------------Phase field formation: Initial equilibrium-----------------\n",
    "#-----------------------------------------------------------------------\n",
    "\n",
    "timeStep = 1e-6\n",
    "for i in range(10):\n",
    "\tphi.updateOld()\n",
    "\tres = 1e+10\n",
    "\twhile res > 1e-5:\n",
    "\t\tres = eq.sweep(var=phi, dt=timeStep)\n",
    "\n",
    "#-----------------------------------------------------------------------\n",
    "#----------------------------Dynamics-----------------------------------\n",
    "#-----------------------------------------------------------------------\n",
    "\n",
    "\n",
    "#Resolution de l'equation de phase field\n",
    "##voir examples.phase.simple\n",
    "\n",
    "timeStep = .1 * dx / velocity\n",
    "elapsed = 0\n",
    "while elapsed < displacement/velocity:\n",
    "\tphi.updateOld()\n",
    "\tres = 1e+10\n",
    "\twhile res > 1e-5:\n",
    "\t\teq.sweep(var=phi, dt=timeStep)\n",
    "\telapsed += timeStep\n",
    "\n",
    "#Resolution des eq de mouvements couplees sur staggered grid avec SIMPLE\n",
    "\n",
    "#Viewers\n",
    "if __name__ == '__main__':\n",
    "    viewer = Viewer(vars=(pressure, xVelocity, yVelocity), xmin=0., xmax=1., ymin=0., colorbar=True)\n",
    "\n",
    "#iterations\n",
    "for sweep in range(sweeps):\n",
    "    ##Solve the Stokes equations to get starred values\n",
    "    velocityEq.cacheMatrix()\n",
    "    vres = velocityEq.sweep(var=Velocity, underRelaxation=velocityRelaxation)\n",
    "    xmat = xVelocityEq.matrix\n",
    "    yres = yVelocityEq.sweep(var=yVelocity,\n",
    "                             underRelaxation=velocityRelaxation)\n",
    "    ##update the ap coefficient from the matrix diagonal\n",
    "    ap[:] = -xmat.takeDiagonal()\n",
    "    ##solve the pressure correction equation\n",
    "    pressureCorrectionEq.cacheRHSvector()\n",
    "    ## left bottom point must remain at pressure 0, so no correction\n",
    "    pres = pressureCorrectionEq.sweep(var=pressureCorrection)\n",
    "    rhs = pressureCorrectionEq.RHSvector\n",
    "    #\n",
    "    ## update the pressure using the corrected value\n",
    "    pressure.setValue(pressure + pressureRelaxation * pressureCorrection)\n",
    "    ## update the velocity using the corrected pressure\n",
    "    xVelocity.setValue(xVelocity - pressureCorrection.grad[0] / ap * mesh.cellVolumes)\n",
    "    #\n",
    "    if __name__ == '__main__':\n",
    "        if sweep%10 == 0:\n",
    "            print 'sweep:',sweep,', x residual:',xres, ', y residual:',yres, ', p residual:', pres, ', continuity:', max(abs(rhs))\n",
    "            viewer.plot()\n",
    "\n",
    "\n",
    "#Algorithme global\n",
    "for i in range(300):\n",
    "\tsolve phi\n",
    "\tsolve u,v\n",
    "\tviewer.plot()"
   ]
  }
 ],
 "metadata": {
  "kernelspec": {
   "display_name": "Python 2",
   "language": "python",
   "name": "python2"
  }
 },
 "nbformat": 4,
 "nbformat_minor": 2
}
